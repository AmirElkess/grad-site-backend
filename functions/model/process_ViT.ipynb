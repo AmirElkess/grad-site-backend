{
  "cells": [
    {
      "cell_type": "markdown",
      "metadata": {
        "id": "N95yMqBIitVj"
      },
      "source": [
        "# Using Visual Transformers for emotion recognition\n",
        "Dataset: fer-2013"
      ]
    },
    {
      "cell_type": "markdown",
      "metadata": {},
      "source": [
        "### Required libraries (working on py3.9)\n",
        "torch\n",
        "torchvision\n",
        "datasets\n",
        "transformers\n",
        "matplotlib\n",
        "pillow\n",
        "sklearn\n",
        "opencv-python\n",
        "imutils"
      ]
    },
    {
      "cell_type": "code",
      "execution_count": 1,
      "metadata": {
        "colab": {
          "base_uri": "https://localhost:8080/"
        },
        "id": "_dcVcvgdqVnF",
        "outputId": "1f215ab5-a803-4ecd-d3b6-509053404681"
      },
      "outputs": [
        {
          "name": "stderr",
          "output_type": "stream",
          "text": [
            "c:\\Users\\AmirElkess\\AppData\\Local\\Programs\\Python\\Python39\\lib\\site-packages\\tqdm\\auto.py:22: TqdmWarning: IProgress not found. Please update jupyter and ipywidgets. See https://ipywidgets.readthedocs.io/en/stable/user_install.html\n",
            "  from .autonotebook import tqdm as notebook_tqdm\n"
          ]
        }
      ],
      "source": [
        "import datasets\n",
        "from PIL import Image\n",
        "import io\n",
        "from IPython import display\n",
        "from matplotlib.pyplot import imshow\n",
        "%matplotlib inline\n"
      ]
    },
    {
      "cell_type": "markdown",
      "metadata": {
        "id": "8jFM7RS2qVnN"
      },
      "source": [
        "## Loading dataset"
      ]
    },
    {
      "cell_type": "code",
      "execution_count": 2,
      "metadata": {
        "colab": {
          "base_uri": "https://localhost:8080/",
          "height": 104,
          "referenced_widgets": [
            "b686c8b7aa374fd18072ec20f4b9fa8c",
            "2af4c8b59ba24ceb9dd1a935706ba57c",
            "d0e5b153fee24ba4b334d02463a5d0b4",
            "e455b6c2e80c402eb2e9954944c0e634",
            "570471a4c14f4a2b842ae64a58fb34a1",
            "1441a112ee2a4b8c80b2efeabb5855a9",
            "feca5d721e6e4872a4be81bdbf7c7f37",
            "f592a6fd63ca415ea5157c664fa811f5",
            "2d7c1b735e2341b2918b1261806e46b1",
            "38f6d6fdf10f48b393b36997cfeea627",
            "0322e835b5f1408895c264d57b62931e"
          ]
        },
        "id": "OfsQox-7qVnQ",
        "outputId": "e9282d8a-eeb5-4e8d-c503-ba974425eab7"
      },
      "outputs": [
        {
          "name": "stderr",
          "output_type": "stream",
          "text": [
            "Using custom data configuration default\n",
            "Reusing dataset fer2013 (C:\\Users\\AmirElkess\\.cache\\huggingface\\datasets\\Jeneral___fer2013\\default\\0.0.0\\0fb00ec122d7d9485e58ee9ef0eec3eb193c0d71aadfc61b61d33a46c2d3a45a)\n",
            "100%|██████████| 2/2 [00:00<00:00, 45.67it/s]\n"
          ]
        }
      ],
      "source": [
        "train, test = datasets.load_dataset(\"Jeneral/fer-2013\", split=[\"train\", \"test\"])\n",
        "splits = train.train_test_split(test_size=0.1)\n",
        "train = splits['train']\n",
        "val = splits['test']\n",
        "del splits"
      ]
    },
    {
      "cell_type": "code",
      "execution_count": 3,
      "metadata": {
        "colab": {
          "base_uri": "https://localhost:8080/",
          "height": 284
        },
        "id": "Ubp6X9LIqVnS",
        "outputId": "018b67fe-c914-4d5d-9c2f-ab02f3672c06"
      },
      "outputs": [
        {
          "data": {
            "text/plain": [
              "<matplotlib.image.AxesImage at 0x1f3d1d7ed00>"
            ]
          },
          "execution_count": 3,
          "metadata": {},
          "output_type": "execute_result"
        },
        {
          "data": {
            "image/png": "[encoded data removed]",
            "text/plain": [
              "<Figure size 432x288 with 1 Axes>"
            ]
          },
          "metadata": {
            "needs_background": "light"
          },
          "output_type": "display_data"
        }
      ],
      "source": [
        "image_data = train[3][\"img_bytes\"]\n",
        "image = Image.open(io.BytesIO(image_data))\n",
        "# image.show()\n",
        "imshow(image, \"gray\") # images are 48*48 grayscale"
      ]
    },
    {
      "cell_type": "code",
      "execution_count": 4,
      "metadata": {
        "colab": {
          "base_uri": "https://localhost:8080/"
        },
        "id": "hPjC7B9yqVnT",
        "outputId": "d16aeabd-7d07-4d2f-d0ea-ef019c85d27b"
      },
      "outputs": [],
      "source": [
        "id2label = {id:label for id, label in enumerate(train.features['labels'].names)}\n",
        "label2id = {label:id for id, label in id2label.items()}"
      ]
    },
    {
      "cell_type": "markdown",
      "metadata": {
        "id": "myogyfugqVnU"
      },
      "source": [
        "## Preprocessing"
      ]
    },
    {
      "cell_type": "code",
      "execution_count": 5,
      "metadata": {
        "colab": {
          "base_uri": "https://localhost:8080/"
        },
        "id": "6KTuet-IqVnV",
        "outputId": "a55da95a-e1bd-4f20-dd45-d25c666b08e7"
      },
      "outputs": [],
      "source": [
        "\n",
        "from transformers import ViTFeatureExtractor\n",
        "\n",
        "# if problems happen, make sure to run using python 3.9\n",
        "from torchvision.transforms import (\n",
        "    CenterCrop,\n",
        "    Compose,\n",
        "    RandomHorizontalFlip,\n",
        "    RandomResizedCrop,\n",
        "    Resize,\n",
        "    ToTensor,\n",
        ")\n",
        "\n",
        "from torchvision.transforms import Normalize\n"
      ]
    },
    {
      "cell_type": "code",
      "execution_count": 6,
      "metadata": {
        "colab": {
          "base_uri": "https://localhost:8080/"
        },
        "id": "WyAxuW-CqVnW",
        "outputId": "9c658ea6-6ebe-4002-c75e-73dfafa0f726"
      },
      "outputs": [],
      "source": [
        "feature_extractor = ViTFeatureExtractor.from_pretrained(\"google/vit-base-patch16-224-in21k\")\n"
      ]
    },
    {
      "cell_type": "code",
      "execution_count": 7,
      "metadata": {
        "id": "MyOo_YwoqVnW"
      },
      "outputs": [],
      "source": [
        "normalize = Normalize(\n",
        "    mean=feature_extractor.image_mean, std=feature_extractor.image_std\n",
        ")\n",
        "\n",
        "_train_transforms = Compose(\n",
        "    [\n",
        "        RandomResizedCrop(feature_extractor.size),\n",
        "        RandomHorizontalFlip(),\n",
        "        ToTensor(),\n",
        "        normalize,\n",
        "    ]\n",
        ")\n",
        "\n",
        "_val_transforms = Compose(\n",
        "    [\n",
        "        Resize(feature_extractor.size),\n",
        "        CenterCrop(feature_extractor.size),\n",
        "        ToTensor(),\n",
        "        normalize,\n",
        "    ]\n",
        ")\n",
        "\n",
        "\n",
        "def train_transforms(examples):\n",
        "    examples[\"img_bytes\"] = [\n",
        "        _train_transforms(Image.open(io.BytesIO(image)).convert(\"RGB\")) for image in examples[\"img_bytes\"]\n",
        "    ]\n",
        "    return examples\n",
        "\n",
        "\n",
        "def val_transforms(examples):\n",
        "    examples[\"img_bytes\"] = [\n",
        "        _val_transforms(Image.open(io.BytesIO(image)).convert(\"RGB\")) for image in examples[\"img_bytes\"]\n",
        "    ]\n",
        "    return examples\n"
      ]
    },
    {
      "cell_type": "code",
      "execution_count": 8,
      "metadata": {
        "id": "t8Uk1d9nqVnY"
      },
      "outputs": [],
      "source": [
        "train.set_transform(train_transforms)\n",
        "val.set_transform(val_transforms)\n",
        "test.set_transform(val_transforms)"
      ]
    },
    {
      "cell_type": "markdown",
      "metadata": {
        "id": "wyNN49N5qVna"
      },
      "source": [
        "## The model"
      ]
    },
    {
      "cell_type": "code",
      "execution_count": 9,
      "metadata": {
        "id": "BqVXZ29uqVna"
      },
      "outputs": [],
      "source": [
        "from transformers import ViTForImageClassification\n",
        "from collections import defaultdict\n",
        "from transformers import TrainingArguments, Trainer\n",
        "from datasets import load_metric\n",
        "import numpy as np\n",
        "import torch"
      ]
    },
    {
      "cell_type": "code",
      "execution_count": 10,
      "metadata": {
        "colab": {
          "base_uri": "https://localhost:8080/"
        },
        "id": "sRHfIFXDqVnb",
        "outputId": "425d16b3-65a1-4d3f-9502-82febd2896ff"
      },
      "outputs": [],
      "source": [
        "model = ViTForImageClassification.from_pretrained('./pretrained_1',\n",
        "                                                  num_labels=7,\n",
        "                                                  id2label=id2label,\n",
        "                                                  label2id=label2id)"
      ]
    },
    {
      "cell_type": "code",
      "execution_count": 11,
      "metadata": {
        "colab": {
          "base_uri": "https://localhost:8080/"
        },
        "id": "HtarvlMRqVnb",
        "outputId": "6bc2c1e5-f229-438a-bab2-dfedd0c8d2df"
      },
      "outputs": [],
      "source": [
        "metric_name = \"accuracy\"\n",
        "\n",
        "args = TrainingArguments(\n",
        "    f\"test-fer-2013\",\n",
        "    save_strategy=\"epoch\",\n",
        "    evaluation_strategy=\"epoch\",\n",
        "    learning_rate=2e-5,\n",
        "    per_device_train_batch_size=10,\n",
        "    per_device_eval_batch_size=4,\n",
        "    num_train_epochs=4,\n",
        "    weight_decay=0.01,\n",
        "    load_best_model_at_end=True,\n",
        "    metric_for_best_model=metric_name,\n",
        "    logging_dir='logs',\n",
        "    remove_unused_columns=False,\n",
        ")"
      ]
    },
    {
      "cell_type": "code",
      "execution_count": 12,
      "metadata": {
        "id": "e6tqCR8kqVnc"
      },
      "outputs": [],
      "source": [
        "metric = load_metric(\"accuracy\")\n",
        "\n",
        "def compute_metrics(eval_pred):\n",
        "    predictions, labels = eval_pred\n",
        "    predictions = np.argmax(predictions, axis=1)\n",
        "    return metric.compute(predictions=predictions, references=labels)"
      ]
    },
    {
      "cell_type": "code",
      "execution_count": 13,
      "metadata": {
        "id": "n7AjFJ18qVnc"
      },
      "outputs": [],
      "source": [
        "def collate_fn(examples):\n",
        "    pixel_values = torch.stack([example[\"img_bytes\"] for example in examples])\n",
        "    labels = torch.tensor([example[\"labels\"] for example in examples])\n",
        "    return {\"pixel_values\": pixel_values, \"labels\": labels}"
      ]
    },
    {
      "cell_type": "code",
      "execution_count": 14,
      "metadata": {
        "id": "gN2a1IvkqVnc"
      },
      "outputs": [],
      "source": [
        "trainer = Trainer(\n",
        "    model,\n",
        "    args,\n",
        "    train_dataset=train,\n",
        "    eval_dataset=val,\n",
        "    data_collator=collate_fn,\n",
        "    compute_metrics=compute_metrics,\n",
        "    tokenizer=feature_extractor,\n",
        ")"
      ]
    },
    {
      "cell_type": "code",
      "execution_count": 15,
      "metadata": {
        "colab": {
          "base_uri": "https://localhost:8080/"
        },
        "id": "BPvUJOKRtHxA",
        "outputId": "9fc80c64-d846-450f-c9bf-ddbe5b4f5adf"
      },
      "outputs": [
        {
          "data": {
            "text/plain": [
              "False"
            ]
          },
          "execution_count": 15,
          "metadata": {},
          "output_type": "execute_result"
        }
      ],
      "source": [
        "torch.cuda.is_available()"
      ]
    },
    {
      "cell_type": "markdown",
      "metadata": {
        "id": "VY7chf9WbYHK"
      },
      "source": [
        "## Predicting on custom image"
      ]
    },
    {
      "cell_type": "code",
      "execution_count": 16,
      "metadata": {
        "id": "Et9KxKh1QbRq"
      },
      "outputs": [],
      "source": [
        "\n",
        "def process_image_from_array(image):\n",
        "  success, encoded_image = cv2.imencode('.png', image)\n",
        "  image = encoded_image.tobytes()\n",
        "\n",
        "  custom_set = dict()\n",
        "\n",
        "  f = image #.read()\n",
        "  _bytes = bytearray(f)\n",
        "\n",
        "  # image = Image.open(io.BytesIO(_bytes))\n",
        "  # imshow(image, \"gray\")\n",
        "\n",
        "  custom_set[\"img_bytes\"] = _train_transforms(Image.open(io.BytesIO(_bytes)).convert(\"RGB\"))\n",
        "  custom_set[\"labels\"] = 0\n",
        "\n",
        "  result = np.argmax(trainer.predict([custom_set], ignore_keys=[\"labels\"]).predictions)\n",
        "  return id2label[result]\n",
        "\n",
        "# \"angry\": 0,\n",
        "# \"disgust\": 1,\n",
        "# \"fear\": 2,\n",
        "# \"happy\": 3,\n",
        "# \"neutral\": 4,\n",
        "# \"sad\": 5,\n",
        "# \"surprise\": 6"
      ]
    },
    {
      "cell_type": "markdown",
      "metadata": {
        "id": "dJQTZgDu0E63"
      },
      "source": [
        "# Realtime emotion detection"
      ]
    },
    {
      "cell_type": "code",
      "execution_count": 17,
      "metadata": {
        "id": "kGAHXNzp0EZI"
      },
      "outputs": [],
      "source": [
        "from imutils.video import WebcamVideoStream\n",
        "from imutils.video import VideoStream\n",
        "import matplotlib.pyplot as plt\n",
        "import time\n",
        "import imutils\n",
        "import numpy as np\n",
        "import cv2\n",
        "# from google.colab.patches import cv2_imshow\n",
        "from IPython.display import display, Javascript\n",
        "# from google.colab.output import eval_js\n",
        "from base64 import b64decode\n",
        "# from google.colab import files\n",
        "import io"
      ]
    },
    {
      "cell_type": "code",
      "execution_count": 18,
      "metadata": {
        "colab": {
          "base_uri": "https://localhost:8080/"
        },
        "id": "oMTyGa620P7o",
        "outputId": "b8de0d51-e2c6-41d8-b69e-a6ebd14c7a36"
      },
      "outputs": [
        {
          "name": "stdout",
          "output_type": "stream",
          "text": [
            "[INFO] loading model...\n"
          ]
        }
      ],
      "source": [
        "print(\"[INFO] loading model...\")\n",
        "prototxt = './preprocessing/deploy.prototxt'\n",
        "model = './preprocessing/res10_300x300_ssd_iter_140000.caffemodel'\n",
        "net = cv2.dnn.readNetFromCaffe(prototxt, model)"
      ]
    },
    {
      "cell_type": "code",
      "execution_count": 19,
      "metadata": {
        "id": "LBM0RA5z0r0X"
      },
      "outputs": [
        {
          "ename": "NameError",
          "evalue": "name 'startY' is not defined",
          "output_type": "error",
          "traceback": [
            "\u001b[1;31m---------------------------------------------------------------------------\u001b[0m",
            "\u001b[1;31mNameError\u001b[0m                                 Traceback (most recent call last)",
            "\u001b[1;32mc:\\Users\\AmirElkess\\Desktop\\local model testing\\process_ViT.ipynb Cell 26'\u001b[0m in \u001b[0;36m<cell line: 8>\u001b[1;34m()\u001b[0m\n\u001b[0;32m     <a href='vscode-notebook-cell:/c%3A/Users/AmirElkess/Desktop/local%20model%20testing/process_ViT.ipynb#ch0000025?line=27'>28</a>\u001b[0m         cv2\u001b[39m.\u001b[39mrectangle(frame, (startX\u001b[39m-\u001b[39m\u001b[39m1\u001b[39m, startY\u001b[39m-\u001b[39m\u001b[39m1\u001b[39m), (endX\u001b[39m+\u001b[39m\u001b[39m1\u001b[39m, endY\u001b[39m+\u001b[39m\u001b[39m1\u001b[39m), (\u001b[39m0\u001b[39m, \u001b[39m0\u001b[39m, \u001b[39m255\u001b[39m), \u001b[39m1\u001b[39m)\n\u001b[0;32m     <a href='vscode-notebook-cell:/c%3A/Users/AmirElkess/Desktop/local%20model%20testing/process_ViT.ipynb#ch0000025?line=28'>29</a>\u001b[0m         \u001b[39m# cv2.putText(frame, text, (startX, y),\u001b[39;00m\n\u001b[0;32m     <a href='vscode-notebook-cell:/c%3A/Users/AmirElkess/Desktop/local%20model%20testing/process_ViT.ipynb#ch0000025?line=29'>30</a>\u001b[0m         \u001b[39m#     cv2.FONT_HERSHEY_SIMPLEX, 0.45, (0, 0, 255), 2)\u001b[39;00m\n\u001b[0;32m     <a href='vscode-notebook-cell:/c%3A/Users/AmirElkess/Desktop/local%20model%20testing/process_ViT.ipynb#ch0000025?line=30'>31</a>\u001b[0m    \u001b[39m#if confidence >=0.9:\u001b[39;00m\n\u001b[0;32m     <a href='vscode-notebook-cell:/c%3A/Users/AmirElkess/Desktop/local%20model%20testing/process_ViT.ipynb#ch0000025?line=31'>32</a>\u001b[0m         \u001b[39m#cv2.imwrite(\"frame%d.jpg\" % count, cv2.cvtColor(frame,cv2.COLOR_BGR2GRAY))\u001b[39;00m\n\u001b[0;32m     <a href='vscode-notebook-cell:/c%3A/Users/AmirElkess/Desktop/local%20model%20testing/process_ViT.ipynb#ch0000025?line=32'>33</a>\u001b[0m         \u001b[39m#count += 1\u001b[39;00m\n\u001b[1;32m---> <a href='vscode-notebook-cell:/c%3A/Users/AmirElkess/Desktop/local%20model%20testing/process_ViT.ipynb#ch0000025?line=34'>35</a>\u001b[0m cropped_frame \u001b[39m=\u001b[39m frame[startY:endY, startX:endX]\n\u001b[0;32m     <a href='vscode-notebook-cell:/c%3A/Users/AmirElkess/Desktop/local%20model%20testing/process_ViT.ipynb#ch0000025?line=35'>36</a>\u001b[0m cropped_frame \u001b[39m=\u001b[39m imutils\u001b[39m.\u001b[39mresize(cropped_frame, width\u001b[39m=\u001b[39m\u001b[39m48\u001b[39m)\n\u001b[0;32m     <a href='vscode-notebook-cell:/c%3A/Users/AmirElkess/Desktop/local%20model%20testing/process_ViT.ipynb#ch0000025?line=36'>37</a>\u001b[0m cropped_frame \u001b[39m=\u001b[39m cv2\u001b[39m.\u001b[39mcvtColor(cropped_frame,cv2\u001b[39m.\u001b[39mCOLOR_BGR2GRAY)\n",
            "\u001b[1;31mNameError\u001b[0m: name 'startY' is not defined"
          ]
        }
      ],
      "source": [
        "vs = WebcamVideoStream(src=0).start()\n",
        "# time.sleep(1)\n",
        "count = 0\n",
        "started = False\n",
        "frame_counter = 0\n",
        "while True:\n",
        "# grab the frame from the threaded video stream and resize it\n",
        "# to have a maximum width of 400 pixels\n",
        "    frame1 = vs.read()\n",
        "    frame = imutils.resize(frame1, width=400)\n",
        "    (h, w) = frame.shape[:2]\n",
        "    blob = cv2.dnn.blobFromImage(cv2.resize(frame, (300, 300)), 1.0, (300, 300), (104.0, 177.0, 123.0))\n",
        "    net.setInput(blob)\n",
        "    detections = net.forward()\n",
        "    for i in range(0, detections.shape[2]):\n",
        "\n",
        "        # extract the confidence (i.e., probability) associated with the prediction\n",
        "        confidence = detections[0, 0, i, 2]\n",
        "\n",
        "        # filter out weak detections by ensuring the `confidence` is\n",
        "        # greater than the minimum confidence threshold\n",
        "        if confidence > 0.5:\n",
        "            started = True\n",
        "            # compute the (x, y)-coordinates of the bounding box for the object\n",
        "            box = detections[0, 0, i, 3:7] * np.array([w, h, w, h])\n",
        "            (startX, startY, endX, endY) = box.astype(\"int\")\n",
        "            # draw the bounding box of the face along with the associated probability\n",
        "            # text = \"{:.2f}%\".format(confidence * 100)\n",
        "            y = startY - 10 if startY - 10 > 10 else startY + 10\n",
        "            cv2.rectangle(frame, (startX-1, startY-1), (endX+1, endY+1), (0, 0, 255), 1)\n",
        "            # cv2.putText(frame, text, (startX, y),\n",
        "            #     cv2.FONT_HERSHEY_SIMPLEX, 0.45, (0, 0, 255), 2)\n",
        "       #if confidence >=0.9:\n",
        "            #cv2.imwrite(\"frame%d.jpg\" % count, cv2.cvtColor(frame,cv2.COLOR_BGR2GRAY))\n",
        "            #count += 1\n",
        "\n",
        "    if started:\n",
        "        cropped_frame = frame[startY:endY, startX:endX]\n",
        "        cropped_frame = imutils.resize(cropped_frame, width=48)\n",
        "        cropped_frame = cv2.cvtColor(cropped_frame,cv2.COLOR_BGR2GRAY)\n",
        "\n",
        "        prediction_text = process_image_from_array(cropped_frame)\n",
        "        \n",
        "        cv2.putText(frame, prediction_text, (startX, y), cv2.FONT_HERSHEY_SIMPLEX, 0.45, (0, 0, 255), 2)\n",
        "        cv2.imshow(\"Frame\",frame)\n",
        "\n",
        "    key = cv2.waitKey(1) & 0xFF\n",
        "    if key == ord(\"q\"):\n",
        "        break\n",
        "cv2.destroyAllWindows()\n",
        "vs.stop()\n",
        "vs.stream.release()"
      ]
    }
  ],
  "metadata": {
    "accelerator": "GPU",
    "colab": {
      "collapsed_sections": [],
      "name": "process_ViT.ipynb",
      "provenance": []
    },
    "interpreter": {
      "hash": "ac25d328fc9c119f02203596e2acace7f3bb63f31f4b85a1133c87a13bb1ade5"
    },
    "kernelspec": {
      "display_name": "Python 3.9.12 64-bit",
      "language": "python",
      "name": "python3"
    },
    "language_info": {
      "codemirror_mode": {
        "name": "ipython",
        "version": 3
      },
      "file_extension": ".py",
      "mimetype": "text/x-python",
      "name": "python",
      "nbconvert_exporter": "python",
      "pygments_lexer": "ipython3",
      "version": "3.9.12"
    },
    "orig_nbformat": 4,
    "widgets": {
      "application/vnd.jupyter.widget-state+json": {
        "0322e835b5f1408895c264d57b62931e": {
          "model_module": "@jupyter-widgets/controls",
          "model_module_version": "1.5.0",
          "model_name": "DescriptionStyleModel",
          "state": {
            "_model_module": "@jupyter-widgets/controls",
            "_model_module_version": "1.5.0",
            "_model_name": "DescriptionStyleModel",
            "_view_count": null,
            "_view_module": "@jupyter-widgets/base",
            "_view_module_version": "1.2.0",
            "_view_name": "StyleView",
            "description_width": ""
          }
        },
        "1441a112ee2a4b8c80b2efeabb5855a9": {
          "model_module": "@jupyter-widgets/base",
          "model_module_version": "1.2.0",
          "model_name": "LayoutModel",
          "state": {
            "_model_module": "@jupyter-widgets/base",
            "_model_module_version": "1.2.0",
            "_model_name": "LayoutModel",
            "_view_count": null,
            "_view_module": "@jupyter-widgets/base",
            "_view_module_version": "1.2.0",
            "_view_name": "LayoutView",
            "align_content": null,
            "align_items": null,
            "align_self": null,
            "border": null,
            "bottom": null,
            "display": null,
            "flex": null,
            "flex_flow": null,
            "grid_area": null,
            "grid_auto_columns": null,
            "grid_auto_flow": null,
            "grid_auto_rows": null,
            "grid_column": null,
            "grid_gap": null,
            "grid_row": null,
            "grid_template_areas": null,
            "grid_template_columns": null,
            "grid_template_rows": null,
            "height": null,
            "justify_content": null,
            "justify_items": null,
            "left": null,
            "margin": null,
            "max_height": null,
            "max_width": null,
            "min_height": null,
            "min_width": null,
            "object_fit": null,
            "object_position": null,
            "order": null,
            "overflow": null,
            "overflow_x": null,
            "overflow_y": null,
            "padding": null,
            "right": null,
            "top": null,
            "visibility": null,
            "width": null
          }
        },
        "2af4c8b59ba24ceb9dd1a935706ba57c": {
          "model_module": "@jupyter-widgets/controls",
          "model_module_version": "1.5.0",
          "model_name": "HTMLModel",
          "state": {
            "_dom_classes": [],
            "_model_module": "@jupyter-widgets/controls",
            "_model_module_version": "1.5.0",
            "_model_name": "HTMLModel",
            "_view_count": null,
            "_view_module": "@jupyter-widgets/controls",
            "_view_module_version": "1.5.0",
            "_view_name": "HTMLView",
            "description": "",
            "description_tooltip": null,
            "layout": "IPY_MODEL_1441a112ee2a4b8c80b2efeabb5855a9",
            "placeholder": "​",
            "style": "IPY_MODEL_feca5d721e6e4872a4be81bdbf7c7f37",
            "value": "100%"
          }
        },
        "2d7c1b735e2341b2918b1261806e46b1": {
          "model_module": "@jupyter-widgets/controls",
          "model_module_version": "1.5.0",
          "model_name": "ProgressStyleModel",
          "state": {
            "_model_module": "@jupyter-widgets/controls",
            "_model_module_version": "1.5.0",
            "_model_name": "ProgressStyleModel",
            "_view_count": null,
            "_view_module": "@jupyter-widgets/base",
            "_view_module_version": "1.2.0",
            "_view_name": "StyleView",
            "bar_color": null,
            "description_width": ""
          }
        },
        "38f6d6fdf10f48b393b36997cfeea627": {
          "model_module": "@jupyter-widgets/base",
          "model_module_version": "1.2.0",
          "model_name": "LayoutModel",
          "state": {
            "_model_module": "@jupyter-widgets/base",
            "_model_module_version": "1.2.0",
            "_model_name": "LayoutModel",
            "_view_count": null,
            "_view_module": "@jupyter-widgets/base",
            "_view_module_version": "1.2.0",
            "_view_name": "LayoutView",
            "align_content": null,
            "align_items": null,
            "align_self": null,
            "border": null,
            "bottom": null,
            "display": null,
            "flex": null,
            "flex_flow": null,
            "grid_area": null,
            "grid_auto_columns": null,
            "grid_auto_flow": null,
            "grid_auto_rows": null,
            "grid_column": null,
            "grid_gap": null,
            "grid_row": null,
            "grid_template_areas": null,
            "grid_template_columns": null,
            "grid_template_rows": null,
            "height": null,
            "justify_content": null,
            "justify_items": null,
            "left": null,
            "margin": null,
            "max_height": null,
            "max_width": null,
            "min_height": null,
            "min_width": null,
            "object_fit": null,
            "object_position": null,
            "order": null,
            "overflow": null,
            "overflow_x": null,
            "overflow_y": null,
            "padding": null,
            "right": null,
            "top": null,
            "visibility": null,
            "width": null
          }
        },
        "570471a4c14f4a2b842ae64a58fb34a1": {
          "model_module": "@jupyter-widgets/base",
          "model_module_version": "1.2.0",
          "model_name": "LayoutModel",
          "state": {
            "_model_module": "@jupyter-widgets/base",
            "_model_module_version": "1.2.0",
            "_model_name": "LayoutModel",
            "_view_count": null,
            "_view_module": "@jupyter-widgets/base",
            "_view_module_version": "1.2.0",
            "_view_name": "LayoutView",
            "align_content": null,
            "align_items": null,
            "align_self": null,
            "border": null,
            "bottom": null,
            "display": null,
            "flex": null,
            "flex_flow": null,
            "grid_area": null,
            "grid_auto_columns": null,
            "grid_auto_flow": null,
            "grid_auto_rows": null,
            "grid_column": null,
            "grid_gap": null,
            "grid_row": null,
            "grid_template_areas": null,
            "grid_template_columns": null,
            "grid_template_rows": null,
            "height": null,
            "justify_content": null,
            "justify_items": null,
            "left": null,
            "margin": null,
            "max_height": null,
            "max_width": null,
            "min_height": null,
            "min_width": null,
            "object_fit": null,
            "object_position": null,
            "order": null,
            "overflow": null,
            "overflow_x": null,
            "overflow_y": null,
            "padding": null,
            "right": null,
            "top": null,
            "visibility": null,
            "width": null
          }
        },
        "b686c8b7aa374fd18072ec20f4b9fa8c": {
          "model_module": "@jupyter-widgets/controls",
          "model_module_version": "1.5.0",
          "model_name": "HBoxModel",
          "state": {
            "_dom_classes": [],
            "_model_module": "@jupyter-widgets/controls",
            "_model_module_version": "1.5.0",
            "_model_name": "HBoxModel",
            "_view_count": null,
            "_view_module": "@jupyter-widgets/controls",
            "_view_module_version": "1.5.0",
            "_view_name": "HBoxView",
            "box_style": "",
            "children": [
              "IPY_MODEL_2af4c8b59ba24ceb9dd1a935706ba57c",
              "IPY_MODEL_d0e5b153fee24ba4b334d02463a5d0b4",
              "IPY_MODEL_e455b6c2e80c402eb2e9954944c0e634"
            ],
            "layout": "IPY_MODEL_570471a4c14f4a2b842ae64a58fb34a1"
          }
        },
        "d0e5b153fee24ba4b334d02463a5d0b4": {
          "model_module": "@jupyter-widgets/controls",
          "model_module_version": "1.5.0",
          "model_name": "FloatProgressModel",
          "state": {
            "_dom_classes": [],
            "_model_module": "@jupyter-widgets/controls",
            "_model_module_version": "1.5.0",
            "_model_name": "FloatProgressModel",
            "_view_count": null,
            "_view_module": "@jupyter-widgets/controls",
            "_view_module_version": "1.5.0",
            "_view_name": "ProgressView",
            "bar_style": "success",
            "description": "",
            "description_tooltip": null,
            "layout": "IPY_MODEL_f592a6fd63ca415ea5157c664fa811f5",
            "max": 2,
            "min": 0,
            "orientation": "horizontal",
            "style": "IPY_MODEL_2d7c1b735e2341b2918b1261806e46b1",
            "value": 2
          }
        },
        "e455b6c2e80c402eb2e9954944c0e634": {
          "model_module": "@jupyter-widgets/controls",
          "model_module_version": "1.5.0",
          "model_name": "HTMLModel",
          "state": {
            "_dom_classes": [],
            "_model_module": "@jupyter-widgets/controls",
            "_model_module_version": "1.5.0",
            "_model_name": "HTMLModel",
            "_view_count": null,
            "_view_module": "@jupyter-widgets/controls",
            "_view_module_version": "1.5.0",
            "_view_name": "HTMLView",
            "description": "",
            "description_tooltip": null,
            "layout": "IPY_MODEL_38f6d6fdf10f48b393b36997cfeea627",
            "placeholder": "​",
            "style": "IPY_MODEL_0322e835b5f1408895c264d57b62931e",
            "value": " 2/2 [00:00&lt;00:00, 57.19it/s]"
          }
        },
        "f592a6fd63ca415ea5157c664fa811f5": {
          "model_module": "@jupyter-widgets/base",
          "model_module_version": "1.2.0",
          "model_name": "LayoutModel",
          "state": {
            "_model_module": "@jupyter-widgets/base",
            "_model_module_version": "1.2.0",
            "_model_name": "LayoutModel",
            "_view_count": null,
            "_view_module": "@jupyter-widgets/base",
            "_view_module_version": "1.2.0",
            "_view_name": "LayoutView",
            "align_content": null,
            "align_items": null,
            "align_self": null,
            "border": null,
            "bottom": null,
            "display": null,
            "flex": null,
            "flex_flow": null,
            "grid_area": null,
            "grid_auto_columns": null,
            "grid_auto_flow": null,
            "grid_auto_rows": null,
            "grid_column": null,
            "grid_gap": null,
            "grid_row": null,
            "grid_template_areas": null,
            "grid_template_columns": null,
            "grid_template_rows": null,
            "height": null,
            "justify_content": null,
            "justify_items": null,
            "left": null,
            "margin": null,
            "max_height": null,
            "max_width": null,
            "min_height": null,
            "min_width": null,
            "object_fit": null,
            "object_position": null,
            "order": null,
            "overflow": null,
            "overflow_x": null,
            "overflow_y": null,
            "padding": null,
            "right": null,
            "top": null,
            "visibility": null,
            "width": null
          }
        },
        "feca5d721e6e4872a4be81bdbf7c7f37": {
          "model_module": "@jupyter-widgets/controls",
          "model_module_version": "1.5.0",
          "model_name": "DescriptionStyleModel",
          "state": {
            "_model_module": "@jupyter-widgets/controls",
            "_model_module_version": "1.5.0",
            "_model_name": "DescriptionStyleModel",
            "_view_count": null,
            "_view_module": "@jupyter-widgets/base",
            "_view_module_version": "1.2.0",
            "_view_name": "StyleView",
            "description_width": ""
          }
        }
      }
    }
  },
  "nbformat": 4,
  "nbformat_minor": 0
}
